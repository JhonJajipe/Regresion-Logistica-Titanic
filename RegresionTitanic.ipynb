{
 "cells": [
  {
   "cell_type": "markdown",
   "id": "2376ee37-ad75-410f-b997-cf608832edb5",
   "metadata": {},
   "source": [
    "# Modelo de regresion logistica para analisis de datos dataset del Titanic<br>\n",
    "## Importacion de librerias."
   ]
  },
  {
   "cell_type": "code",
   "execution_count": 78,
   "id": "86d65c20-714f-4db5-be80-165b85121496",
   "metadata": {},
   "outputs": [],
   "source": [
    "import pandas as pd\n",
    "import numpy as np\n",
    "import seaborn as sns\n",
    "import matplotlib.pyplot as plt\n",
    "import random\n",
    "from sklearn import metrics\n",
    "from sklearn.model_selection import train_test_split\n",
    "from sklearn.linear_model import LogisticRegression\n",
    "from sklearn.metrics import classification_report, confusion_matrix"
   ]
  },
  {
   "cell_type": "markdown",
   "id": "23425f85-7704-45b5-b522-36175cba7082",
   "metadata": {},
   "source": [
    "## 1. Realizar un análisis exploratorio de los datos para identificar relaciones entre variables, valores atípicos, tendencias, etc."
   ]
  },
  {
   "cell_type": "code",
   "execution_count": 54,
   "id": "af8aef77-206d-4cf6-9ae6-7ffa422c65cd",
   "metadata": {},
   "outputs": [],
   "source": [
    "# Creacion de variables donde se cargaran los dataset del \"Titanic Dataset\"\n",
    "Titanic = pd.read_csv('C:/Users/Jhon/Documents/UNAD/9_semestre/Analisis_de_datos/Tarea_5/Titanic/train.csv')"
   ]
  },
  {
   "cell_type": "code",
   "execution_count": 56,
   "id": "21536e69-71d3-4b9e-b908-1eada3e566f5",
   "metadata": {},
   "outputs": [
    {
     "data": {
      "text/html": [
       "<div>\n",
       "<style scoped>\n",
       "    .dataframe tbody tr th:only-of-type {\n",
       "        vertical-align: middle;\n",
       "    }\n",
       "\n",
       "    .dataframe tbody tr th {\n",
       "        vertical-align: top;\n",
       "    }\n",
       "\n",
       "    .dataframe thead th {\n",
       "        text-align: right;\n",
       "    }\n",
       "</style>\n",
       "<table border=\"1\" class=\"dataframe\">\n",
       "  <thead>\n",
       "    <tr style=\"text-align: right;\">\n",
       "      <th></th>\n",
       "      <th>PassengerId</th>\n",
       "      <th>Survived</th>\n",
       "      <th>Pclass</th>\n",
       "      <th>Name</th>\n",
       "      <th>Sex</th>\n",
       "      <th>Age</th>\n",
       "      <th>SibSp</th>\n",
       "      <th>Parch</th>\n",
       "      <th>Ticket</th>\n",
       "      <th>Fare</th>\n",
       "      <th>Cabin</th>\n",
       "      <th>Embarked</th>\n",
       "    </tr>\n",
       "  </thead>\n",
       "  <tbody>\n",
       "    <tr>\n",
       "      <th>0</th>\n",
       "      <td>1</td>\n",
       "      <td>0</td>\n",
       "      <td>3</td>\n",
       "      <td>Braund, Mr. Owen Harris</td>\n",
       "      <td>male</td>\n",
       "      <td>22.0</td>\n",
       "      <td>1</td>\n",
       "      <td>0</td>\n",
       "      <td>A/5 21171</td>\n",
       "      <td>7.2500</td>\n",
       "      <td>NaN</td>\n",
       "      <td>S</td>\n",
       "    </tr>\n",
       "    <tr>\n",
       "      <th>1</th>\n",
       "      <td>2</td>\n",
       "      <td>1</td>\n",
       "      <td>1</td>\n",
       "      <td>Cumings, Mrs. John Bradley (Florence Briggs Th...</td>\n",
       "      <td>female</td>\n",
       "      <td>38.0</td>\n",
       "      <td>1</td>\n",
       "      <td>0</td>\n",
       "      <td>PC 17599</td>\n",
       "      <td>71.2833</td>\n",
       "      <td>C85</td>\n",
       "      <td>C</td>\n",
       "    </tr>\n",
       "    <tr>\n",
       "      <th>2</th>\n",
       "      <td>3</td>\n",
       "      <td>1</td>\n",
       "      <td>3</td>\n",
       "      <td>Heikkinen, Miss. Laina</td>\n",
       "      <td>female</td>\n",
       "      <td>26.0</td>\n",
       "      <td>0</td>\n",
       "      <td>0</td>\n",
       "      <td>STON/O2. 3101282</td>\n",
       "      <td>7.9250</td>\n",
       "      <td>NaN</td>\n",
       "      <td>S</td>\n",
       "    </tr>\n",
       "    <tr>\n",
       "      <th>3</th>\n",
       "      <td>4</td>\n",
       "      <td>1</td>\n",
       "      <td>1</td>\n",
       "      <td>Futrelle, Mrs. Jacques Heath (Lily May Peel)</td>\n",
       "      <td>female</td>\n",
       "      <td>35.0</td>\n",
       "      <td>1</td>\n",
       "      <td>0</td>\n",
       "      <td>113803</td>\n",
       "      <td>53.1000</td>\n",
       "      <td>C123</td>\n",
       "      <td>S</td>\n",
       "    </tr>\n",
       "    <tr>\n",
       "      <th>4</th>\n",
       "      <td>5</td>\n",
       "      <td>0</td>\n",
       "      <td>3</td>\n",
       "      <td>Allen, Mr. William Henry</td>\n",
       "      <td>male</td>\n",
       "      <td>35.0</td>\n",
       "      <td>0</td>\n",
       "      <td>0</td>\n",
       "      <td>373450</td>\n",
       "      <td>8.0500</td>\n",
       "      <td>NaN</td>\n",
       "      <td>S</td>\n",
       "    </tr>\n",
       "  </tbody>\n",
       "</table>\n",
       "</div>"
      ],
      "text/plain": [
       "   PassengerId  Survived  Pclass  \\\n",
       "0            1         0       3   \n",
       "1            2         1       1   \n",
       "2            3         1       3   \n",
       "3            4         1       1   \n",
       "4            5         0       3   \n",
       "\n",
       "                                                Name     Sex   Age  SibSp  \\\n",
       "0                            Braund, Mr. Owen Harris    male  22.0      1   \n",
       "1  Cumings, Mrs. John Bradley (Florence Briggs Th...  female  38.0      1   \n",
       "2                             Heikkinen, Miss. Laina  female  26.0      0   \n",
       "3       Futrelle, Mrs. Jacques Heath (Lily May Peel)  female  35.0      1   \n",
       "4                           Allen, Mr. William Henry    male  35.0      0   \n",
       "\n",
       "   Parch            Ticket     Fare Cabin Embarked  \n",
       "0      0         A/5 21171   7.2500   NaN        S  \n",
       "1      0          PC 17599  71.2833   C85        C  \n",
       "2      0  STON/O2. 3101282   7.9250   NaN        S  \n",
       "3      0            113803  53.1000  C123        S  \n",
       "4      0            373450   8.0500   NaN        S  "
      ]
     },
     "execution_count": 56,
     "metadata": {},
     "output_type": "execute_result"
    }
   ],
   "source": [
    "Titanic.head(5)"
   ]
  },
  {
   "cell_type": "markdown",
   "id": "159252ac-1a3d-4419-9db9-cfb425ad8c8d",
   "metadata": {},
   "source": [
    "## Análisis de variables del dataset para realizacion de analisis exploratorio.\n",
    "`PassengerID` = Numero de identificacion de cada pasajero, autoincrementado en 1.<br>\n",
    "`Survived` = Supervivencia 1 = si o 2 = no.<br>\n",
    "`Pclass` = Clase de sociedad econocomica del pasajero 1a = Superior, 2do = Medio, 3a = Baja.<br>\n",
    "`Name` = Nombre del pasajero.<br>\n",
    "`Sex` = Sexo del pasajero. <br>\n",
    "`Age` = Edad del pasajero.<br>\n",
    "`SibSp` = Cantidad de familiares Hermanos, hermanastros y esposos en el barco.<br>\n",
    "`Parch` = Cantidad de familiares Padres, Madres e hijos.<br>\n",
    "`Ticket` = Numero de ticket del pasajero.<br>\n",
    "`Fare` = Tarifa pagada por el pasajero.<br>\n",
    "`Cabin` = Numero de cabina del pasajero.<br>\n",
    "`Embarked` = Puerto donde embarco el pasajero C = Cherbourg, Q = Queenstown, S = Southampton.<br>\n"
   ]
  },
  {
   "cell_type": "code",
   "execution_count": 58,
   "id": "be3650ec-d8d5-4333-9e75-ccd54ae2b563",
   "metadata": {},
   "outputs": [
    {
     "data": {
      "text/html": [
       "<div>\n",
       "<style scoped>\n",
       "    .dataframe tbody tr th:only-of-type {\n",
       "        vertical-align: middle;\n",
       "    }\n",
       "\n",
       "    .dataframe tbody tr th {\n",
       "        vertical-align: top;\n",
       "    }\n",
       "\n",
       "    .dataframe thead th {\n",
       "        text-align: right;\n",
       "    }\n",
       "</style>\n",
       "<table border=\"1\" class=\"dataframe\">\n",
       "  <thead>\n",
       "    <tr style=\"text-align: right;\">\n",
       "      <th></th>\n",
       "      <th>PassengerId</th>\n",
       "      <th>Survived</th>\n",
       "      <th>Pclass</th>\n",
       "      <th>Age</th>\n",
       "      <th>SibSp</th>\n",
       "      <th>Parch</th>\n",
       "      <th>Fare</th>\n",
       "    </tr>\n",
       "  </thead>\n",
       "  <tbody>\n",
       "    <tr>\n",
       "      <th>count</th>\n",
       "      <td>891.000000</td>\n",
       "      <td>891.000000</td>\n",
       "      <td>891.000000</td>\n",
       "      <td>714.000000</td>\n",
       "      <td>891.000000</td>\n",
       "      <td>891.000000</td>\n",
       "      <td>891.000000</td>\n",
       "    </tr>\n",
       "    <tr>\n",
       "      <th>mean</th>\n",
       "      <td>446.000000</td>\n",
       "      <td>0.383838</td>\n",
       "      <td>2.308642</td>\n",
       "      <td>29.699118</td>\n",
       "      <td>0.523008</td>\n",
       "      <td>0.381594</td>\n",
       "      <td>32.204208</td>\n",
       "    </tr>\n",
       "    <tr>\n",
       "      <th>std</th>\n",
       "      <td>257.353842</td>\n",
       "      <td>0.486592</td>\n",
       "      <td>0.836071</td>\n",
       "      <td>14.526497</td>\n",
       "      <td>1.102743</td>\n",
       "      <td>0.806057</td>\n",
       "      <td>49.693429</td>\n",
       "    </tr>\n",
       "    <tr>\n",
       "      <th>min</th>\n",
       "      <td>1.000000</td>\n",
       "      <td>0.000000</td>\n",
       "      <td>1.000000</td>\n",
       "      <td>0.420000</td>\n",
       "      <td>0.000000</td>\n",
       "      <td>0.000000</td>\n",
       "      <td>0.000000</td>\n",
       "    </tr>\n",
       "    <tr>\n",
       "      <th>25%</th>\n",
       "      <td>223.500000</td>\n",
       "      <td>0.000000</td>\n",
       "      <td>2.000000</td>\n",
       "      <td>20.125000</td>\n",
       "      <td>0.000000</td>\n",
       "      <td>0.000000</td>\n",
       "      <td>7.910400</td>\n",
       "    </tr>\n",
       "    <tr>\n",
       "      <th>50%</th>\n",
       "      <td>446.000000</td>\n",
       "      <td>0.000000</td>\n",
       "      <td>3.000000</td>\n",
       "      <td>28.000000</td>\n",
       "      <td>0.000000</td>\n",
       "      <td>0.000000</td>\n",
       "      <td>14.454200</td>\n",
       "    </tr>\n",
       "    <tr>\n",
       "      <th>75%</th>\n",
       "      <td>668.500000</td>\n",
       "      <td>1.000000</td>\n",
       "      <td>3.000000</td>\n",
       "      <td>38.000000</td>\n",
       "      <td>1.000000</td>\n",
       "      <td>0.000000</td>\n",
       "      <td>31.000000</td>\n",
       "    </tr>\n",
       "    <tr>\n",
       "      <th>max</th>\n",
       "      <td>891.000000</td>\n",
       "      <td>1.000000</td>\n",
       "      <td>3.000000</td>\n",
       "      <td>80.000000</td>\n",
       "      <td>8.000000</td>\n",
       "      <td>6.000000</td>\n",
       "      <td>512.329200</td>\n",
       "    </tr>\n",
       "  </tbody>\n",
       "</table>\n",
       "</div>"
      ],
      "text/plain": [
       "       PassengerId    Survived      Pclass         Age       SibSp  \\\n",
       "count   891.000000  891.000000  891.000000  714.000000  891.000000   \n",
       "mean    446.000000    0.383838    2.308642   29.699118    0.523008   \n",
       "std     257.353842    0.486592    0.836071   14.526497    1.102743   \n",
       "min       1.000000    0.000000    1.000000    0.420000    0.000000   \n",
       "25%     223.500000    0.000000    2.000000   20.125000    0.000000   \n",
       "50%     446.000000    0.000000    3.000000   28.000000    0.000000   \n",
       "75%     668.500000    1.000000    3.000000   38.000000    1.000000   \n",
       "max     891.000000    1.000000    3.000000   80.000000    8.000000   \n",
       "\n",
       "            Parch        Fare  \n",
       "count  891.000000  891.000000  \n",
       "mean     0.381594   32.204208  \n",
       "std      0.806057   49.693429  \n",
       "min      0.000000    0.000000  \n",
       "25%      0.000000    7.910400  \n",
       "50%      0.000000   14.454200  \n",
       "75%      0.000000   31.000000  \n",
       "max      6.000000  512.329200  "
      ]
     },
     "execution_count": 58,
     "metadata": {},
     "output_type": "execute_result"
    }
   ],
   "source": [
    "Titanic.describe()"
   ]
  },
  {
   "cell_type": "code",
   "execution_count": 174,
   "id": "17ed9030-a501-4afb-a6f3-20936e093d40",
   "metadata": {},
   "outputs": [
    {
     "data": {
      "text/plain": [
       "Text(0.5, 1.0, 'Datos atipicos')"
      ]
     },
     "execution_count": 174,
     "metadata": {},
     "output_type": "execute_result"
    },
    {
     "data": {
      "image/png": "[encoded data removed]",
      "text/plain": [
       "<Figure size 1000x400 with 1 Axes>"
      ]
     },
     "metadata": {},
     "output_type": "display_data"
    }
   ],
   "source": [
    "#Identificación de datos atipicos variable edad\n",
    "plt.figure(figsize=(10, 4))\n",
    "sns.boxplot(x=Titanic['Age'])\n",
    "plt.title('Datos atipicos', fontsize=12 )"
   ]
  },
  {
   "cell_type": "markdown",
   "id": "5dfb75f5-6c50-4ff7-8f23-080ae7842b61",
   "metadata": {},
   "source": [
    "No se identifican valores atipicos ya que en el titanic se transportaban bebes desde 4 meses, hasta personas mayores de 80 años"
   ]
  },
  {
   "cell_type": "code",
   "execution_count": 60,
   "id": "967ff0f1-2b58-4c32-b89e-795640a57678",
   "metadata": {},
   "outputs": [
    {
     "data": {
      "text/plain": [
       "Text(0.5, 1.0, 'Datos atipicos')"
      ]
     },
     "execution_count": 60,
     "metadata": {},
     "output_type": "execute_result"
    },
    {
     "data": {
      "image/png": "[encoded data removed]",
      "text/plain": [
       "<Figure size 1000x400 with 1 Axes>"
      ]
     },
     "metadata": {},
     "output_type": "display_data"
    }
   ],
   "source": [
    "#Identificación de datos atipicos variable Pclass\n",
    "plt.figure(figsize=(10, 4))\n",
    "sns.boxplot(x=Titanic['Pclass'])\n",
    "plt.title('Datos atipicos', fontsize=12 )"
   ]
  },
  {
   "cell_type": "markdown",
   "id": "07c53dfb-a093-47d8-81aa-25be260154d5",
   "metadata": {},
   "source": [
    "No se identifican valores atipicos"
   ]
  },
  {
   "cell_type": "code",
   "execution_count": 62,
   "id": "6b164519-911d-4aa1-94b9-d101d9144886",
   "metadata": {},
   "outputs": [
    {
     "data": {
      "text/plain": [
       "Text(0.5, 1.0, 'Datos atipicos')"
      ]
     },
     "execution_count": 62,
     "metadata": {},
     "output_type": "execute_result"
    },
    {
     "data": {
      "image/png": "[encoded data removed]",
      "text/plain": [
       "<Figure size 1000x400 with 1 Axes>"
      ]
     },
     "metadata": {},
     "output_type": "display_data"
    }
   ],
   "source": [
    "#Identificación de datos atipicos variable Fare\n",
    "plt.figure(figsize=(10, 4))\n",
    "sns.boxplot(x=Titanic['Fare'])\n",
    "plt.title('Datos atipicos', fontsize=12 )"
   ]
  },
  {
   "cell_type": "code",
   "execution_count": null,
   "id": "05164a34-3c5f-496d-bad3-e9ebf08d3b7a",
   "metadata": {},
   "outputs": [],
   "source": [
    "No se identifican valores atipicos, solo se identifica que algunas personas pagaron tarifas gigantes por poder obtener un ticket en el titanic"
   ]
  },
  {
   "cell_type": "markdown",
   "id": "ab3879ac-2827-4c72-87c0-5fb299da71ad",
   "metadata": {},
   "source": [
    "## 2. Preprocesar los datos limpiándolos, tratando valores faltantes y transformándolos según sea necesario."
   ]
  },
  {
   "cell_type": "markdown",
   "id": "00bbbb48-5dde-47ed-8673-18d7e74fd4fd",
   "metadata": {},
   "source": [
    "### Identificacion de registros con valor de NaN en la variable de cabina"
   ]
  },
  {
   "cell_type": "code",
   "execution_count": 74,
   "id": "50261598-4a32-4bcd-a133-8da885122b9a",
   "metadata": {},
   "outputs": [
    {
     "name": "stdout",
     "output_type": "stream",
     "text": [
      "Cantidad de Registros con NaN en Cabin:  687\n"
     ]
    }
   ],
   "source": [
    "print(\"Cantidad de Registros con NaN en Cabin: \",Titanic['Cabin'].isna().sum())"
   ]
  },
  {
   "cell_type": "markdown",
   "id": "7942dccc-a486-4d77-9204-d6e9cb572072",
   "metadata": {},
   "source": [
    "### Se implementa un funcion llamada generar_clase la cual retornara un valor de B entre 1 y 50 random, y Asi de manera Sucesivamente de acuerdo a la clase del pasajero."
   ]
  },
  {
   "cell_type": "code",
   "execution_count": 80,
   "id": "75af462d-a033-46ae-afd1-bcac3d9f0fc9",
   "metadata": {},
   "outputs": [],
   "source": [
    "def generar_cabina(Pclass):\n",
    "    if Pclass == 1:\n",
    "        return f\"B{random.randint(1, 50)}\"\n",
    "    elif Pclass == 2:\n",
    "        return f\"C{random.randint(1, 50)}\"\n",
    "    elif Pclass == 3:\n",
    "        return f\"D{random.randint(1, 50)}\"\n",
    "\n",
    "# Completar NaN con cabinas aleatorias\n",
    "Titanic['Cabin'] = Titanic.apply(lambda row: generar_cabina(row['Pclass']) if pd.isna(row['Cabin']) else row['Cabin'], axis=1)"
   ]
  },
  {
   "cell_type": "markdown",
   "id": "a69fe62f-0ddb-45d0-81c9-c18239d6e985",
   "metadata": {},
   "source": [
    "### Idententificacion nuevamente de si todos los registros de la columna de cabina fueron remplazados correctamente."
   ]
  },
  {
   "cell_type": "code",
   "execution_count": 82,
   "id": "2895d75e-1ffc-4629-9559-6b9ed97bd3a8",
   "metadata": {},
   "outputs": [
    {
     "name": "stdout",
     "output_type": "stream",
     "text": [
      "Cantidad de Registros con NaN en Cabin:  0\n"
     ]
    }
   ],
   "source": [
    "print(\"Cantidad de Registros con NaN en Cabin: \",Titanic['Cabin'].isna().sum())"
   ]
  },
  {
   "cell_type": "markdown",
   "id": "2c5ae903-e24a-4fd6-95ec-1e96410f2db1",
   "metadata": {},
   "source": [
    "### Identificacion de valores en blanco en la variable de Edad"
   ]
  },
  {
   "cell_type": "code",
   "execution_count": 100,
   "id": "f229860f-15f3-478b-b314-8944d3e2133a",
   "metadata": {},
   "outputs": [
    {
     "name": "stdout",
     "output_type": "stream",
     "text": [
      "Cantidad de Registros en blanco en Age:  177\n"
     ]
    }
   ],
   "source": [
    "print(\"Cantidad de Registros en blanco en Age: \",Titanic['Age'].isnull().sum())"
   ]
  },
  {
   "cell_type": "markdown",
   "id": "69736a33-b009-49fc-b44e-86cb93a5a482",
   "metadata": {},
   "source": [
    "### Remplazo de valores en blanco de manera random manteniendo los valores entre el rango de la media de la columna"
   ]
  },
  {
   "cell_type": "code",
   "execution_count": 102,
   "id": "66a1c63f-2404-4866-96b6-9a04e0936a87",
   "metadata": {},
   "outputs": [],
   "source": [
    "Titanic['Age'] = Titanic['Age'].apply(lambda x: random.randint(20, 40) if pd.isna(x) else x)"
   ]
  },
  {
   "cell_type": "markdown",
   "id": "5e46c426-824a-4da0-9d93-c41c07e2939c",
   "metadata": {},
   "source": [
    "### Idententificacion nuevamente de si todos los registros de la columna edad de  fueron remplazados correctamente."
   ]
  },
  {
   "cell_type": "code",
   "execution_count": 104,
   "id": "0caab59e-0795-4445-88ce-ce0b79ac2b2c",
   "metadata": {},
   "outputs": [
    {
     "name": "stdout",
     "output_type": "stream",
     "text": [
      "Cantidad de Registros en blanco en Age:  0\n"
     ]
    }
   ],
   "source": [
    "print(\"Cantidad de Registros en blanco en Age: \",Titanic['Age'].isnull().sum())"
   ]
  },
  {
   "cell_type": "markdown",
   "id": "23eec112-80ec-4a1f-80d6-2af840220bf9",
   "metadata": {},
   "source": [
    "### Identificancion de la columna de embarcamiento y se remplazaran los valores faltantes por C"
   ]
  },
  {
   "cell_type": "code",
   "execution_count": 111,
   "id": "10217518-865b-475d-9d24-aa9e414b42e7",
   "metadata": {},
   "outputs": [],
   "source": [
    "Titanic['Embarked'] = Titanic['Embarked'].apply(lambda x: 'C' if pd.isna(x) else x)"
   ]
  },
  {
   "cell_type": "markdown",
   "id": "5378e162-d765-4a4e-95d8-ccaab60081c0",
   "metadata": {},
   "source": [
    "### Idententificacion si todos los registros de la columna de embarcacion fueron remplazados correctamente."
   ]
  },
  {
   "cell_type": "code",
   "execution_count": 117,
   "id": "9004245c-f7ff-429b-84d0-c37e3eeea689",
   "metadata": {},
   "outputs": [
    {
     "name": "stdout",
     "output_type": "stream",
     "text": [
      "Cantidad de Registros en blanco en Embarked:  0\n"
     ]
    }
   ],
   "source": [
    "print(\"Cantidad de Registros en blanco en Embarked: \",Titanic['Embarked'].isnull().sum())"
   ]
  },
  {
   "cell_type": "markdown",
   "id": "7d3a77bb-b2f9-443e-ac4e-aeeccc5cffe8",
   "metadata": {},
   "source": [
    "### Se remplazan los valores de Female por 1 y Male por 0 en la variable de sexo para entrenar el modelo"
   ]
  },
  {
   "cell_type": "code",
   "execution_count": 146,
   "id": "85da7f5d-f18b-48ff-a32d-1ed997b4defd",
   "metadata": {},
   "outputs": [],
   "source": [
    "Titanic['Sex'] = Titanic['Sex'].map({'female': 1, 'male': 0})"
   ]
  },
  {
   "cell_type": "markdown",
   "id": "612f4956-8b8b-40d3-b804-9f97120db42f",
   "metadata": {},
   "source": [
    "### Se remplazan los valores de embarcamiento de C por 0, Q por 1, S por 2"
   ]
  },
  {
   "cell_type": "code",
   "execution_count": 156,
   "id": "c696ea06-b1d4-4ae1-bad6-9dabacd6257e",
   "metadata": {},
   "outputs": [],
   "source": [
    "Titanic['Embarked'] = Titanic['Embarked'].map({'C': 0, 'Q': 1, 'S': 2})"
   ]
  },
  {
   "cell_type": "code",
   "execution_count": 158,
   "id": "6c37d0e3-5d4a-48ae-bbbd-4e499df15776",
   "metadata": {},
   "outputs": [
    {
     "name": "stdout",
     "output_type": "stream",
     "text": [
      "<class 'pandas.core.frame.DataFrame'>\n",
      "RangeIndex: 891 entries, 0 to 890\n",
      "Data columns (total 12 columns):\n",
      " #   Column       Non-Null Count  Dtype  \n",
      "---  ------       --------------  -----  \n",
      " 0   PassengerId  891 non-null    int64  \n",
      " 1   Survived     891 non-null    int64  \n",
      " 2   Pclass       891 non-null    int64  \n",
      " 3   Name         891 non-null    object \n",
      " 4   Sex          891 non-null    int64  \n",
      " 5   Age          891 non-null    float64\n",
      " 6   SibSp        891 non-null    int64  \n",
      " 7   Parch        891 non-null    int64  \n",
      " 8   Ticket       891 non-null    object \n",
      " 9   Fare         891 non-null    float64\n",
      " 10  Cabin        891 non-null    object \n",
      " 11  Embarked     891 non-null    int64  \n",
      "dtypes: float64(2), int64(7), object(3)\n",
      "memory usage: 83.7+ KB\n"
     ]
    }
   ],
   "source": [
    "Titanic.info()"
   ]
  },
  {
   "cell_type": "markdown",
   "id": "918d126f-169b-4beb-86a3-0140ebe97070",
   "metadata": {},
   "source": [
    "### No se identifican columnas con datos faltantes."
   ]
  },
  {
   "cell_type": "markdown",
   "id": "74f2a773-fc90-43f3-bbde-f73280c3e13f",
   "metadata": {},
   "source": [
    "## 3. Seleccionar las características más relevantes para entrenar el modelo utilizando selección de características."
   ]
  },
  {
   "cell_type": "markdown",
   "id": "c4025071-057e-4780-b976-b0c26c4d8f1a",
   "metadata": {},
   "source": [
    "### Selecciono la variable de supervivencia para entrenar el modelo"
   ]
  },
  {
   "cell_type": "code",
   "execution_count": 122,
   "id": "eb5d9bc9-02a4-4372-a821-b7db7227ad33",
   "metadata": {},
   "outputs": [
    {
     "data": {
      "text/plain": [
       "Survived\n",
       "0    549\n",
       "1    342\n",
       "Name: count, dtype: int64"
      ]
     },
     "execution_count": 122,
     "metadata": {},
     "output_type": "execute_result"
    }
   ],
   "source": [
    "Titanic['Survived'].value_counts()"
   ]
  },
  {
   "cell_type": "markdown",
   "id": "7580e3c0-17a2-47ae-8738-30ea72b6ff13",
   "metadata": {},
   "source": [
    "## 4. Dividir el dataset en Train y Test para evaluar correctamente el modelo."
   ]
  },
  {
   "cell_type": "code",
   "execution_count": 160,
   "id": "41c957f3-5c61-432b-ad51-43451da05340",
   "metadata": {},
   "outputs": [],
   "source": [
    "# Porcentaje de datos para (train) = 80% y (test) = 20%\n",
    "# Se crean variables X y Y para almacenar la información del entrenamiento\n",
    "\n",
    "X = Titanic.drop(columns=['Survived', 'Name', 'Ticket', 'Cabin'])\n",
    "Y = Titanic['Survived'] \n",
    "\n",
    "X_train, X_test, Y_train, Y_test = train_test_split(X, Y, test_size=0.20, stratify=Y, random_state= 0)"
   ]
  },
  {
   "cell_type": "markdown",
   "id": "1221290b-ea89-45a5-8b37-deaf146154e2",
   "metadata": {},
   "source": [
    "### Se eliminan las columnas de supervivencia, nombre, ticket y cabina."
   ]
  },
  {
   "cell_type": "code",
   "execution_count": 162,
   "id": "f3921f56-ffe1-4dd1-82f5-331919e15455",
   "metadata": {},
   "outputs": [
    {
     "name": "stdout",
     "output_type": "stream",
     "text": [
      "     PassengerId  Pclass  Sex   Age  SibSp  Parch     Fare  Embarked\n",
      "502          503       3    1  25.0      0      0   7.6292         1\n",
      "464          465       3    0  34.0      0      0   8.0500         2\n",
      "198          199       3    1  39.0      0      0   7.7500         1\n",
      "765          766       1    1  51.0      1      0  77.9583         2\n",
      "421          422       3    0  21.0      0      0   7.7333         1\n",
      "..           ...     ...  ...   ...    ...    ...      ...       ...\n",
      "131          132       3    0  20.0      0      0   7.0500         2\n",
      "490          491       3    0  35.0      1      0  19.9667         2\n",
      "528          529       3    0  39.0      0      0   7.9250         2\n",
      "48            49       3    0  27.0      2      0  21.6792         0\n",
      "80            81       3    0  22.0      0      0   9.0000         2\n",
      "\n",
      "[712 rows x 8 columns]\n"
     ]
    }
   ],
   "source": [
    "print (X_train)"
   ]
  },
  {
   "cell_type": "markdown",
   "id": "356f6764-ba17-4200-b909-8474c527c1aa",
   "metadata": {},
   "source": [
    "### En variable de train se ingresa solamente la columna de supervivencia."
   ]
  },
  {
   "cell_type": "code",
   "execution_count": 130,
   "id": "9f84c269-5e98-4916-b860-9ee296da2217",
   "metadata": {},
   "outputs": [
    {
     "name": "stdout",
     "output_type": "stream",
     "text": [
      "502    0\n",
      "464    0\n",
      "198    1\n",
      "765    1\n",
      "421    0\n",
      "      ..\n",
      "131    0\n",
      "490    0\n",
      "528    0\n",
      "48     0\n",
      "80     0\n",
      "Name: Survived, Length: 712, dtype: int64\n"
     ]
    }
   ],
   "source": [
    "print (Y_train)"
   ]
  },
  {
   "cell_type": "markdown",
   "id": "5f0e8f63-59ff-4d7a-bf14-67a1685b39c3",
   "metadata": {},
   "source": [
    "## 5. Entrenar el modelo configurando los diferentes hiperparámetros."
   ]
  },
  {
   "cell_type": "code",
   "execution_count": 164,
   "id": "460fb89b-d98d-422c-babe-d6202d47f967",
   "metadata": {},
   "outputs": [],
   "source": [
    "#Modelo que se aplicara de regresion logistica, haciendo uso de la libreria liblinear\n",
    "regresion_Titanic = LogisticRegression(solver = \"liblinear\")\n",
    "regresion_Titanic.fit (X_train , Y_train)   \n",
    "\n",
    "# Creacion del modelo de prediccion\n",
    "Prediccion = regresion_Titanic.predict(X_test)"
   ]
  },
  {
   "cell_type": "markdown",
   "id": "b156e1c7-2bfb-4a1a-907c-f2091e6d48bc",
   "metadata": {},
   "source": [
    "## 6. Evaluar el desempeño del modelo en el conjunto de Test con métricas como precisión, recall, F1-score, etc."
   ]
  },
  {
   "cell_type": "code",
   "execution_count": 166,
   "id": "623d88dc-2ecc-4e6e-b006-566be7f7e0ce",
   "metadata": {},
   "outputs": [
    {
     "name": "stdout",
     "output_type": "stream",
     "text": [
      "              precision    recall  f1-score   support\n",
      "\n",
      "           0       0.80      0.89      0.84       110\n",
      "           1       0.79      0.65      0.71        69\n",
      "\n",
      "    accuracy                           0.80       179\n",
      "   macro avg       0.80      0.77      0.78       179\n",
      "weighted avg       0.80      0.80      0.79       179\n",
      "\n"
     ]
    }
   ],
   "source": [
    "#obtener los resultados de desempeño del modelo dee regresion\n",
    "print(classification_report(Y_test,Prediccion))"
   ]
  },
  {
   "cell_type": "markdown",
   "id": "a62933c5-213b-4f76-9e57-7ef1e7d000e2",
   "metadata": {},
   "source": [
    "## 7. Realizar las diferentes gráficas que permitan visualizar los resultados del modelo."
   ]
  },
  {
   "cell_type": "code",
   "execution_count": 168,
   "id": "721b5b1c-068c-4d86-96ef-cfacbc0a0fd8",
   "metadata": {},
   "outputs": [
    {
     "data": {
      "text/plain": [
       "<sklearn.metrics._plot.confusion_matrix.ConfusionMatrixDisplay at 0x19fd885c2c0>"
      ]
     },
     "execution_count": 168,
     "metadata": {},
     "output_type": "execute_result"
    },
    {
     "data": {
      "image/png": "[encoded data removed]",
      "text/plain": [
       "<Figure size 640x480 with 2 Axes>"
      ]
     },
     "metadata": {},
     "output_type": "display_data"
    }
   ],
   "source": [
    "cm=confusion_matrix(Y_test,Prediccion)\n",
    "disp=metrics.ConfusionMatrixDisplay(confusion_matrix=cm)\n",
    "disp.plot()"
   ]
  },
  {
   "cell_type": "code",
   "execution_count": 170,
   "id": "f71eaf92-8e95-4bce-9252-e78386260c02",
   "metadata": {},
   "outputs": [
    {
     "data": {
      "image/png": "[encoded data removed]",
      "text/plain": [
       "<Figure size 640x480 with 1 Axes>"
      ]
     },
     "metadata": {},
     "output_type": "display_data"
    }
   ],
   "source": [
    "# Curva de precisón del modelo\n",
    "\n",
    "from sklearn.metrics import RocCurveDisplay\n",
    "RocCurveDisplay.from_predictions(Y_test, Prediccion)\n",
    "plt.show()"
   ]
  },
  {
   "cell_type": "markdown",
   "id": "19d0ccfb-f837-42cf-94fd-5d2969937f78",
   "metadata": {},
   "source": [
    "## 8. Interpretar, analizar y documentar los resultados obtenidos"
   ]
  },
  {
   "cell_type": "markdown",
   "id": "a53aeb7a-99bd-4d03-bbae-85e2d80b70f4",
   "metadata": {},
   "source": [
    "La evaluación realizada al modelo de regresión logística por medio del análisis de precisión, recall, F1-score\n",
    "\n",
    "Precisión: El modelo nos indica una precisión del 0.80 en los pasajeros que fallecieron y 0.79 en casos que los pasajeros sobrevivieron, esto nos indica que el entrenamiento del modelo haciendo uso del 80% de los datos cuenta con una alta capacidad de identificar correctamente los casos en los que una persona fallecio o sobrevivio en la tragedia del titanic.\n",
    "\n",
    "Recall: El recall nos indica que el modelo de regresión logística identifico 89% de los casos donde no sobrevivio un pasajero y el 65% de los casos donde los pasajeros si sobrevivieron, lo que nos indica que el modelo identifica con facilidad los casos donde no sobrevivieron pasajeros pudiendo ser por la ubicacion y estrato social, pero no logra identificar correctamente el de supervivencia por que las variables fueron mas como la ubicacion precisa al momento del accidente.\n",
    "\n",
    "F1-Score: El F1-score es la media armónica entre precisión y recall, El F1-score presentado por el modelo de regresión logístico es de 0.84 para los casos de fallecimiento y 0.71 para los casos de supervivencia, esto nos indica un buen equilibrio entre la identificación correcta de los casos.\n",
    "\n",
    "En cuanto a la matriz de confusión podemos interpretar lo siguiente:\n",
    "\n",
    "Si analizamos los resultados de la matriz de confusión se puede evaluar que el modelo de regresión logística: En 98 casos dijo que un pasajero no sobrevivio y acierto correctamente. En 12 casos dijo que un pasajero falleceria pero en realidad sobrevivio. En 45 casos dijo que un pasajero sobreviviria y acierto correctamente. En 24 casos dijo que un pasajero sobreviviria pero fallo.\n",
    "\n",
    "En cuanto a la curva de precisión del modelo de regresión logística: Se puede identificar que el AUC = 0.77 esto nos quiere indicar que el umbral de clasificaciones correctas en de un 77% tal y como también en la exactitud total.\n"
   ]
  }
 ],
 "metadata": {
  "kernelspec": {
   "display_name": "Python 3 (ipykernel)",
   "language": "python",
   "name": "python3"
  },
  "language_info": {
   "codemirror_mode": {
    "name": "ipython",
    "version": 3
   },
   "file_extension": ".py",
   "mimetype": "text/x-python",
   "name": "python",
   "nbconvert_exporter": "python",
   "pygments_lexer": "ipython3",
   "version": "3.12.4"
  }
 },
 "nbformat": 4,
 "nbformat_minor": 5
}
